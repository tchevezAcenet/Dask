{
 "cells": [
  {
   "cell_type": "markdown",
   "id": "6a83bf81-74a2-425d-8a74-c48c1c4cbdde",
   "metadata": {},
   "source": [
    "# Create Data"
   ]
  },
  {
   "cell_type": "markdown",
   "id": "8485e11c-19df-4000-99d0-ac7ec3b17d1d",
   "metadata": {},
   "source": [
    "This code generates a large synthetic time series dataset using Dask and saves it as a Parquet file. The resulting dataset contains approximately 655 million rows and may take a few minutes to create. Let's run this code first, and while it processes, we'll learn about Dask DataFrames."
   ]
  },
  {
   "cell_type": "code",
   "execution_count": null,
   "id": "d3765f1a-7ce5-457a-870c-292ef9974efc",
   "metadata": {},
   "outputs": [],
   "source": [
    "import dask\n",
    "ddf = dask.datasets.timeseries(\n",
    "    start=\"2000-01-01\",\n",
    "    end = \"2020-12-31\",\n",
    "    freq = \"1s\",\n",
    "    partition_freq=\"7d\",\n",
    "    seed=42\n",
    ")\n",
    "ddf.to_parquet(\"big_file.parquet\")"
   ]
  },
  {
   "cell_type": "markdown",
   "id": "d60b6586-eefc-499a-a824-6a88061d93c4",
   "metadata": {},
   "source": [
    "Now, lets create a folder **\"flights_data\"** with 500 csv files with 1000 rows each. Each csv file will be randomly generated with flight information with the following columns:\n",
    "\n",
    "- **flight_id**: A unique identifier for each flight, generated sequentially for each row.\n",
    "- **origin**: The airport where the flight originates, randomly chosen from a list of airports (JFK, LGA, EWR).\n",
    "- **destination**: The airport where the flight is destined to land, randomly chosen from the same list of airports.\n",
    "- **airline**: The airline operating the flight, randomly chosen from a list of airlines (Delta, United, American).\n",
    "- **status**: The status of the flight, indicating whether it is 'On Time', 'Delayed', or 'Cancelled', randomly assigned.\n",
    "- **delay_minutes**: The number of minutes the flight is delayed, randomly assigned a value between 0 and 120.\n",
    "- **num_passengers**: The number of passengers on the flight, randomly assigned a value between 50 and 300.\n",
    "- **distance**: The distance the flight will travel, randomly assigned a value between 100 and 5000 miles.\n",
    "- **flight_duration**: The duration of the flight in minutes, randomly assigned a value between 30 and 600 minutes.\n"
   ]
  },
  {
   "cell_type": "code",
   "execution_count": 1,
   "id": "46177dc3-e914-4b9a-afc3-52006e0fe64d",
   "metadata": {},
   "outputs": [
    {
     "name": "stdout",
     "output_type": "stream",
     "text": [
      "CSV files created in the 'flights_data' folder.\n"
     ]
    }
   ],
   "source": [
    "import os\n",
    "import pandas as pd\n",
    "import numpy as np\n",
    "\n",
    "# Create the flights_data directory if it doesn't exist\n",
    "if not os.path.exists('flights_data'):\n",
    "    os.makedirs('flights_data')\n",
    "\n",
    "# Define the columns for the flight data\n",
    "columns = ['flight_id', 'origin', 'destination', 'airline', 'status', 'delay_minutes', 'num_passengers', 'distance', 'flight_duration']\n",
    "\n",
    "# Define some sample data for the columns\n",
    "airports = ['JFK', 'LGA', 'EWR']\n",
    "airlines = ['Delta', 'United', 'American']\n",
    "statuses = ['On Time', 'Delayed', 'Cancelled']\n",
    "\n",
    "# Generate and save multiple CSV files\n",
    "num_files = 500\n",
    "num_rows_per_file = 1000\n",
    "\n",
    "for i in range(num_files):\n",
    "    # Generate random flight data\n",
    "    data = {\n",
    "        'flight_id': np.arange(i * num_rows_per_file, (i + 1) * num_rows_per_file),\n",
    "        'origin': np.random.choice(airports, num_rows_per_file),\n",
    "        'destination': np.random.choice(airports, num_rows_per_file),\n",
    "        'airline': np.random.choice(airlines, num_rows_per_file),\n",
    "        'status': np.random.choice(statuses, num_rows_per_file),\n",
    "        'delay_minutes': np.random.randint(0, 121, num_rows_per_file),\n",
    "        'num_passengers': np.random.randint(50, 301, num_rows_per_file),\n",
    "        'distance': np.random.randint(100, 5001, num_rows_per_file),\n",
    "        'flight_duration': np.random.randint(30, 601, num_rows_per_file)\n",
    "    }\n",
    "    \n",
    "    df = pd.DataFrame(data)\n",
    "    \n",
    "    # Save the DataFrame to a CSV file\n",
    "    df.to_csv(f'flights_data/flights_data_{i+1}.csv', index=False)\n",
    "\n",
    "print(\"CSV files created in the 'flights_data' folder.\")"
   ]
  }
 ],
 "metadata": {
  "kernelspec": {
   "display_name": "Python 3 (ipykernel)",
   "language": "python",
   "name": "python3"
  },
  "language_info": {
   "codemirror_mode": {
    "name": "ipython",
    "version": 3
   },
   "file_extension": ".py",
   "mimetype": "text/x-python",
   "name": "python",
   "nbconvert_exporter": "python",
   "pygments_lexer": "ipython3",
   "version": "3.11.5"
  }
 },
 "nbformat": 4,
 "nbformat_minor": 5
}
